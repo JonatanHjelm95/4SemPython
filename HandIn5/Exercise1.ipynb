{
 "cells": [
  {
   "cell_type": "code",
   "execution_count": 77,
   "metadata": {},
   "outputs": [
    {
     "name": "stdout",
     "output_type": "stream",
     "text": [
      "Divorced pct change from 2008 to 2020: 26.98%\n"
     ]
    }
   ],
   "source": [
    "import pandas as pd\n",
    "import matplotlib.pyplot as plt\n",
    "import numpy as np\n",
    "#A\n",
    "df = pd.read_csv('A.csv', delimiter=';')\n",
    "n1 = float(df['INDHOLD'].head(1))\n",
    "n2 = float(df['INDHOLD'].tail(1))\n",
    "\n",
    "diff = n2 - n1\n",
    "change = float(diff/n1*100)\n",
    "print('Divorced pct change from 2008 to 2020: ' + str(round(change, 2)) + \"%\")"
   ]
  },
  {
   "cell_type": "code",
   "execution_count": 57,
   "metadata": {},
   "outputs": [
    {
     "name": "stdout",
     "output_type": "stream",
     "text": [
      "Cities with highest amount of unmarried people: \n",
      "[{'area': 'Region Hovedstaden', 'amount': 973802}, {'area': 'Region Midtjylland', 'amount': 653428}, {'area': 'Region Syddanmark', 'amount': 568126}, {'area': 'København', 'amount': 412512}, {'area': 'Region Sjælland', 'amount': 368715}]\n"
     ]
    }
   ],
   "source": [
    "#B\n",
    "df = pd.read_csv('B.csv', delimiter=';')\n",
    "cities = list(df['OMRÅDE'])\n",
    "indhold = list(df['INDHOLD'])\n",
    "\n",
    "dictList = []\n",
    "for i in range(len(cities)):\n",
    "    citiesDict = {}\n",
    "    citiesDict['area']  = cities[i]\n",
    "    citiesDict['amount'] = int(indhold[i])\n",
    "    dictList.append(citiesDict)\n",
    "sortedList = sorted(dictList, key = lambda i: i['amount'],reverse=True) \n",
    "print('Cities with highest amount of unmarried people: \\n'+ str(sortedList[1:6]))\n"
   ]
  },
  {
   "cell_type": "code",
   "execution_count": 139,
   "metadata": {},
   "outputs": [
    {
     "data": {
      "text/plain": [
       "<matplotlib.axes._subplots.AxesSubplot at 0x2158ebb3a08>"
      ]
     },
     "execution_count": 139,
     "metadata": {},
     "output_type": "execute_result"
    },
    {
     "data": {
      "image/png": "[encoded data removed]",
      "text/plain": [
       "<Figure size 432x288 with 1 Axes>"
      ]
     },
     "metadata": {
      "needs_background": "light"
     },
     "output_type": "display_data"
    }
   ],
   "source": [
    "#C\n",
    "df = pd.read_csv('C.csv', delimiter=';')\n",
    "data = list(df['INDHOLD'])\n",
    "status = list(df['CIVILSTAND'])\n",
    "yearList = df['TID']\n",
    "year2k20 = {}\n",
    "year2k8 = {}\n",
    "d = {}\n",
    "for i in range(len(yearList)):\n",
    "    if '2008K1' == str(yearList[i]):\n",
    "        year2k8[status[i]] = int(data[i])\n",
    "        d['2008'] = year2k8\n",
    "    else:\n",
    "        year2k20[status[i]] = int(data[i])\n",
    "        d['2020'] = year2k20\n",
    "year2k8, year2k20\n",
    "pd.DataFrame(d).plot(kind='bar')\n",
    "\n",
    "\n"
   ]
  },
  {
   "cell_type": "code",
   "execution_count": 142,
   "metadata": {},
   "outputs": [
    {
     "data": {
      "text/plain": [
       "<matplotlib.axes._subplots.AxesSubplot at 0x2158ef799c8>"
      ]
     },
     "execution_count": 142,
     "metadata": {},
     "output_type": "execute_result"
    },
    {
     "data": {
      "image/png": "[encoded data removed]",
      "text/plain": [
       "<Figure size 432x288 with 1 Axes>"
      ]
     },
     "metadata": {
      "needs_background": "light"
     },
     "output_type": "display_data"
    }
   ],
   "source": [
    "df = pd.read_csv('D.csv', delimiter=';')\n",
    "data = list(df['INDHOLD'])\n",
    "status = list(df['CIVILSTAND'])\n",
    "age = list(df['ALDER'])\n",
    "married = {}\n",
    "unmarried = {}\n",
    "d={}\n",
    "for i in range(len(status)):\n",
    "    if 'Ugift' in str(status[i]):\n",
    "        if data[i] > 0 and str(age[i]) != 'I alt':\n",
    "            unmarried[age[i]] = int(data[i])\n",
    "            d['unmarried'] = unmarried\n",
    "    else:\n",
    "        if data[i] > 0 and str(age[i]) != 'I alt':\n",
    "            married[age[i]] = int(data[i])\n",
    "            d['married'] = married\n",
    "            \n",
    "pd.DataFrame(d).plot(kind='bar')\n"
   ]
  }
 ],
 "metadata": {
  "kernelspec": {
   "display_name": "Python 3.7.7 64-bit",
   "language": "python",
   "name": "python37764bitc55238a4853a438e80c040b44b56987d"
  },
  "language_info": {
   "codemirror_mode": {
    "name": "ipython",
    "version": 3
   },
   "file_extension": ".py",
   "mimetype": "text/x-python",
   "name": "python",
   "nbconvert_exporter": "python",
   "pygments_lexer": "ipython3",
   "version": "3.7.7"
  }
 },
 "nbformat": 4,
 "nbformat_minor": 4
}
