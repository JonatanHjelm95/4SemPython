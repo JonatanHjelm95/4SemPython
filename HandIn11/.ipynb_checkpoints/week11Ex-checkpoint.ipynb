{
 "cells": [
  {
   "cell_type": "code",
   "execution_count": 67,
   "metadata": {},
   "outputs": [],
   "source": [
    "import perceptron as pc\n",
    "from sklearn import linear_model\n",
    "import pandas as pd\n",
    "import matplotlib.pyplot as plt\n",
    "import perceptron as pc\n",
    "import numpy as np\n",
    "#Part one\n",
    "\n",
    "\n"
   ]
  },
  {
   "cell_type": "code",
   "execution_count": 77,
   "metadata": {},
   "outputs": [
    {
     "data": {
      "text/html": [
       "<div>\n",
       "<style scoped>\n",
       "    .dataframe tbody tr th:only-of-type {\n",
       "        vertical-align: middle;\n",
       "    }\n",
       "\n",
       "    .dataframe tbody tr th {\n",
       "        vertical-align: top;\n",
       "    }\n",
       "\n",
       "    .dataframe thead th {\n",
       "        text-align: right;\n",
       "    }\n",
       "</style>\n",
       "<table border=\"1\" class=\"dataframe\">\n",
       "  <thead>\n",
       "    <tr style=\"text-align: right;\">\n",
       "      <th></th>\n",
       "      <th>weight</th>\n",
       "      <th>height</th>\n",
       "      <th>type</th>\n",
       "    </tr>\n",
       "  </thead>\n",
       "  <tbody>\n",
       "    <tr>\n",
       "      <th>0</th>\n",
       "      <td>233.479920</td>\n",
       "      <td>23.514130</td>\n",
       "      <td>1</td>\n",
       "    </tr>\n",
       "    <tr>\n",
       "      <th>1</th>\n",
       "      <td>231.324467</td>\n",
       "      <td>26.033830</td>\n",
       "      <td>1</td>\n",
       "    </tr>\n",
       "    <tr>\n",
       "      <th>2</th>\n",
       "      <td>17.906954</td>\n",
       "      <td>6.846577</td>\n",
       "      <td>-1</td>\n",
       "    </tr>\n",
       "    <tr>\n",
       "      <th>3</th>\n",
       "      <td>230.276523</td>\n",
       "      <td>24.077800</td>\n",
       "      <td>1</td>\n",
       "    </tr>\n",
       "    <tr>\n",
       "      <th>4</th>\n",
       "      <td>20.360593</td>\n",
       "      <td>6.605983</td>\n",
       "      <td>-1</td>\n",
       "    </tr>\n",
       "    <tr>\n",
       "      <th>5</th>\n",
       "      <td>21.605388</td>\n",
       "      <td>6.812460</td>\n",
       "      <td>-1</td>\n",
       "    </tr>\n",
       "    <tr>\n",
       "      <th>6</th>\n",
       "      <td>17.857287</td>\n",
       "      <td>11.035404</td>\n",
       "      <td>1</td>\n",
       "    </tr>\n",
       "    <tr>\n",
       "      <th>7</th>\n",
       "      <td>22.126466</td>\n",
       "      <td>3.426412</td>\n",
       "      <td>-1</td>\n",
       "    </tr>\n",
       "    <tr>\n",
       "      <th>8</th>\n",
       "      <td>16.705946</td>\n",
       "      <td>10.224681</td>\n",
       "      <td>1</td>\n",
       "    </tr>\n",
       "    <tr>\n",
       "      <th>10</th>\n",
       "      <td>17.829896</td>\n",
       "      <td>1.760933</td>\n",
       "      <td>-1</td>\n",
       "    </tr>\n",
       "  </tbody>\n",
       "</table>\n",
       "</div>"
      ],
      "text/plain": [
       "        weight     height  type\n",
       "0   233.479920  23.514130     1\n",
       "1   231.324467  26.033830     1\n",
       "2    17.906954   6.846577    -1\n",
       "3   230.276523  24.077800     1\n",
       "4    20.360593   6.605983    -1\n",
       "5    21.605388   6.812460    -1\n",
       "6    17.857287  11.035404     1\n",
       "7    22.126466   3.426412    -1\n",
       "8    16.705946  10.224681     1\n",
       "10   17.829896   1.760933    -1"
      ]
     },
     "execution_count": 77,
     "metadata": {},
     "output_type": "execute_result"
    }
   ],
   "source": [
    "#Part 2: Rodent data\n",
    "\n",
    "# reading csv as pandas framework\n",
    "rodents = pd.read_csv('rodents.csv', sep=';')\n",
    "# changing rat and mouse to 1 and -1 \n",
    "rodents['type'] = rodents['type'].apply(lambda x: 1 if str(x).strip() == 'rat' else -1)\n",
    "# Removing nan-values\n",
    "rodents = rodents.dropna()\n",
    "rodents[:10]\n",
    "\n"
   ]
  },
  {
   "cell_type": "code",
   "execution_count": 131,
   "metadata": {},
   "outputs": [
    {
     "data": {
      "text/plain": [
       "array([ 143.26070173, -154.15530417])"
      ]
     },
     "execution_count": 131,
     "metadata": {},
     "output_type": "execute_result"
    }
   ],
   "source": [
    "# converts to numpy array\n",
    "rodents_np = np.asarray(rodents)\n",
    "# looping trough all data in rodents_np...\n",
    "# in format: [weight and height, type]\n",
    "rodents_fmt = [(data[:2], data[2]) for data in rodents_np]\n",
    "w,_ = pc.pla(rodents_fmt)\n",
    "w"
   ]
  },
  {
   "cell_type": "code",
   "execution_count": 114,
   "metadata": {},
   "outputs": [
    {
     "data": {
      "text/plain": [
       "<matplotlib.axes._subplots.AxesSubplot at 0x111c5ac8108>"
      ]
     },
     "execution_count": 114,
     "metadata": {},
     "output_type": "execute_result"
    },
    {
     "data": {
      "image/png": "[encoded data removed]",
      "text/plain": [
       "<Figure size 432x288 with 2 Axes>"
      ]
     },
     "metadata": {
      "needs_background": "light"
     },
     "output_type": "display_data"
    }
   ],
   "source": [
    "rodents.plot.scatter(x='weight',\n",
    "                      y='height',\n",
    "                      c='type',colormap='seismic')"
   ]
  },
  {
   "cell_type": "code",
   "execution_count": 120,
   "metadata": {
    "scrolled": true
   },
   "outputs": [
    {
     "data": {
      "text/plain": [
       "[<matplotlib.lines.Line2D at 0x111c5849a88>,\n",
       " <matplotlib.lines.Line2D at 0x111c5849388>]"
      ]
     },
     "execution_count": 120,
     "metadata": {},
     "output_type": "execute_result"
    },
    {
     "data": {
      "image/png": "[encoded data removed]",
      "text/plain": [
       "<Figure size 432x288 with 1 Axes>"
      ]
     },
     "metadata": {
      "needs_background": "light"
     },
     "output_type": "display_data"
    }
   ],
   "source": [
    "from sklearn import linear_model\n",
    "# Creating x and y data from rodents_np\n",
    "X = [data[:2] for data in rodents_np]\n",
    "y = [data[2] for data in rodents_np]\n",
    "# Creating testing and training data for x and y\n",
    "X_train = X[:-20]\n",
    "X_test = X[:20]\n",
    "\n",
    "y_train = y[:-20]\n",
    "y_test = y[:20]\n",
    "# Creating regression object\n",
    "reg = linear_model.LinearRegression()\n",
    "# Training model\n",
    "reg.fit(X_train, y_train)\n",
    "\n",
    "y_pred = reg.predict(X_test)\n",
    "coef = reg.coef_\n",
    "plt.plot(X_test, y_pred)"
   ]
  },
  {
   "cell_type": "code",
   "execution_count": 135,
   "metadata": {},
   "outputs": [
    {
     "name": "stdout",
     "output_type": "stream",
     "text": [
      "rat\n",
      "mouse\n",
      "rat\n"
     ]
    }
   ],
   "source": [
    "def predict(inp_vec, weights):\n",
    "    class_label_prediction = pc.perceptron(inp_vec, weights)\n",
    "    return class_label_prediction\n",
    "\n",
    "\n",
    "weights =  [40, -190]\n",
    "test_data = [[231.32446731816555,26.03382997978225],\n",
    "[17.906954059999567,6.846576762459397],\n",
    "[230.276522831171,24.077799766119398]]\n",
    "for t in test_data:\n",
    "    if predict(t, weights) == 1:\n",
    "        print('rat')\n",
    "    else:\n",
    "        print('mouse')\n"
   ]
  },
  {
   "cell_type": "code",
   "execution_count": null,
   "metadata": {},
   "outputs": [],
   "source": []
  }
 ],
 "metadata": {
  "kernelspec": {
   "display_name": "Python 3",
   "language": "python",
   "name": "python3"
  },
  "language_info": {
   "codemirror_mode": {
    "name": "ipython",
    "version": 3
   },
   "file_extension": ".py",
   "mimetype": "text/x-python",
   "name": "python",
   "nbconvert_exporter": "python",
   "pygments_lexer": "ipython3",
   "version": "3.7.7"
  }
 },
 "nbformat": 4,
 "nbformat_minor": 4
}
